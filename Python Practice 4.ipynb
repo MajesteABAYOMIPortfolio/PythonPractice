{
 "cells": [
  {
   "cell_type": "code",
   "execution_count": null,
   "id": "02307ac0",
   "metadata": {},
   "outputs": [],
   "source": [
    "from math import pi\n",
    "def getpositive():\n",
    "    while True:\n",
    "        r = input('Enter the radius')\n",
    "        if r.isdigit():\n",
    "            return int(r)\n",
    "        else:\n",
    "            print (\"enter a positive value\")\n",
    "rad = getpositive()\n",
    "print ('the radius is:', rad)\n",
    "Aire = pi * rad **2\n",
    "print ('the aire is :', Aire)"
   ]
  },
  {
   "cell_type": "raw",
   "id": "f65c5c0f",
   "metadata": {},
   "source": []
  }
 ],
 "metadata": {
  "kernelspec": {
   "display_name": "Python 3 (ipykernel)",
   "language": "python",
   "name": "python3"
  },
  "language_info": {
   "codemirror_mode": {
    "name": "ipython",
    "version": 3
   },
   "file_extension": ".py",
   "mimetype": "text/x-python",
   "name": "python",
   "nbconvert_exporter": "python",
   "pygments_lexer": "ipython3",
   "version": "3.9.12"
  }
 },
 "nbformat": 4,
 "nbformat_minor": 5
}
