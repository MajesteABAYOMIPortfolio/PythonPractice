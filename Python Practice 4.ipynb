{
 "cells": [
  {
   "cell_type": "code",
   "execution_count": 30,
   "id": "288a18b6",
   "metadata": {},
   "outputs": [
    {
     "name": "stdout",
     "output_type": "stream",
     "text": [
      "Enter the radius4\n",
      "the radius is: 4\n",
      "the aire is : 50.26548245743669\n"
     ]
    }
   ],
   "source": [
    "from math import pi\n",
    "def getpositive():\n",
    "    while True:\n",
    "        r = input('Enter the radius')\n",
    "        if r.isdigit():\n",
    "            return int(r)\n",
    "        else:\n",
    "            print (\"enter a positive value\")\n",
    "rad = getpositive()\n",
    "print ('the radius is:', rad)\n",
    "Aire = pi * rad **2\n",
    "print ('the aire is :', Aire)"
   ]
  },
  {
   "cell_type": "code",
   "execution_count": 35,
   "id": "038453d8",
   "metadata": {},
   "outputs": [
    {
     "name": "stdout",
     "output_type": "stream",
     "text": [
      "enter the radiusr\n"
     ]
    },
    {
     "ename": "ValueError",
     "evalue": "could not convert string to float: 'r'",
     "output_type": "error",
     "traceback": [
      "\u001b[1;31m---------------------------------------------------------------------------\u001b[0m",
      "\u001b[1;31mValueError\u001b[0m                                Traceback (most recent call last)",
      "Input \u001b[1;32mIn [35]\u001b[0m, in \u001b[0;36m<cell line: 1>\u001b[1;34m()\u001b[0m\n\u001b[1;32m----> 1\u001b[0m radi \u001b[38;5;241m=\u001b[39m \u001b[38;5;28;43mfloat\u001b[39;49m\u001b[43m(\u001b[49m\u001b[38;5;28;43minput\u001b[39;49m\u001b[43m(\u001b[49m\u001b[38;5;124;43m'\u001b[39;49m\u001b[38;5;124;43menter the radius\u001b[39;49m\u001b[38;5;124;43m'\u001b[39;49m\u001b[43m)\u001b[49m\u001b[43m)\u001b[49m\n\u001b[0;32m      2\u001b[0m area \u001b[38;5;241m=\u001b[39m pi \u001b[38;5;241m*\u001b[39m radi\u001b[38;5;241m*\u001b[39m\u001b[38;5;241m*\u001b[39m\u001b[38;5;241m2\u001b[39m\n\u001b[0;32m      3\u001b[0m \u001b[38;5;28mprint\u001b[39m (\u001b[38;5;124m'\u001b[39m\u001b[38;5;124mthe radius is \u001b[39m\u001b[38;5;124m'\u001b[39m  \u001b[38;5;241m+\u001b[39m \u001b[38;5;28mstr\u001b[39m (radi) ,\u001b[38;5;124m'\u001b[39m\u001b[38;5;124mand the aire is \u001b[39m\u001b[38;5;124m'\u001b[39m \u001b[38;5;241m+\u001b[39m \u001b[38;5;28mstr\u001b[39m (area) )\n",
      "\u001b[1;31mValueError\u001b[0m: could not convert string to float: 'r'"
     ]
    }
   ],
   "source": [
    "radi = float(input('enter the radius'))\n",
    "area = pi * radi**2\n",
    "print ('the radius is '  + str (radi) ,'and the aire is ' + str (area) )"
   ]
  },
  {
   "cell_type": "raw",
   "id": "ea4beb32",
   "metadata": {},
   "source": []
  }
 ],
 "metadata": {
  "kernelspec": {
   "display_name": "Python 3 (ipykernel)",
   "language": "python",
   "name": "python3"
  },
  "language_info": {
   "codemirror_mode": {
    "name": "ipython",
    "version": 3
   },
   "file_extension": ".py",
   "mimetype": "text/x-python",
   "name": "python",
   "nbconvert_exporter": "python",
   "pygments_lexer": "ipython3",
   "version": "3.9.12"
  }
 },
 "nbformat": 4,
 "nbformat_minor": 5
}
