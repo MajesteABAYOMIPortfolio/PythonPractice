{
 "cells": [
  {
   "cell_type": "code",
   "execution_count": 2,
   "id": "ec1170bb",
   "metadata": {},
   "outputs": [
    {
     "name": "stdout",
     "output_type": "stream",
     "text": [
      "enter the radius4\n",
      "the radius is 4.0 and the aire is 50.26548245743669\n"
     ]
    }
   ],
   "source": [
    "from math import pi\n",
    "radi = float(input('enter the radius'))\n",
    "area = pi * radi**2\n",
    "print ('the radius is '  + str (radi) ,'and the aire is ' + str (area) )"
   ]
  }
 ],
 "metadata": {
  "kernelspec": {
   "display_name": "Python 3 (ipykernel)",
   "language": "python",
   "name": "python3"
  },
  "language_info": {
   "codemirror_mode": {
    "name": "ipython",
    "version": 3
   },
   "file_extension": ".py",
   "mimetype": "text/x-python",
   "name": "python",
   "nbconvert_exporter": "python",
   "pygments_lexer": "ipython3",
   "version": "3.9.12"
  }
 },
 "nbformat": 4,
 "nbformat_minor": 5
}
